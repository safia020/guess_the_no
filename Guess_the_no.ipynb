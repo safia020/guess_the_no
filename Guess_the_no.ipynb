{
 "cells": [
  {
   "cell_type": "code",
   "execution_count": 2,
   "id": "9cfa8884",
   "metadata": {},
   "outputs": [
    {
     "name": "stdout",
     "output_type": "stream",
     "text": [
      "Welcome to the guessing number game!!\n",
      "2 is too low, guess again please\n",
      "Oops! That was not a valid number. Try again...\n",
      "4 is too low, guess again please\n",
      "8 is too high, guess again please\n",
      "Congratulations!!! You guessed correctly!!! 6 is the answer\n"
     ]
    }
   ],
   "source": [
    "import random\n",
    "## Generating random number for user to guess\n",
    "generated_number = random.randint(-10,10)\n",
    "print(\"Welcome to the guessing number game!!\")\n",
    "## Getting input from the user\n",
    "while True:\n",
    "    try:\n",
    "        user_guess = int(input(\"Guess the a whole number between -10 to 10: \"))\n",
    "## Validating only in the range number\n",
    "        if not -10 <= user_guess <= 10:\n",
    "            print(\"Your guess is out of range! Please guess a whole number between -10 to 10\")\n",
    "            continue\n",
    "        difference = generated_number - user_guess\n",
    "## comparing the user guess and generated number and giving an indication of the difference\n",
    "        if difference > 0:\n",
    "            print(f\"{user_guess} is too low, guess again please\")\n",
    "        elif difference < 0:\n",
    "            print(f\"{user_guess} is too high, guess again please\")\n",
    "        else:\n",
    "            print(f\"Congratulations!!! You guessed correctly!!! {user_guess} is the answer\")\n",
    "            break\n",
    "    except ValueError:\n",
    "        print(\"Oops! That was not a valid number. Try again...\") ## validating input from user\n",
    "\n"
   ]
  }
 ],
 "metadata": {
  "kernelspec": {
   "display_name": "Python 3",
   "language": "python",
   "name": "python3"
  },
  "language_info": {
   "codemirror_mode": {
    "name": "ipython",
    "version": 3
   },
   "file_extension": ".py",
   "mimetype": "text/x-python",
   "name": "python",
   "nbconvert_exporter": "python",
   "pygments_lexer": "ipython3",
   "version": "3.12.6"
  }
 },
 "nbformat": 4,
 "nbformat_minor": 5
}
